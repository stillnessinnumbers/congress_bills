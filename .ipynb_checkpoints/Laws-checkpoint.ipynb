{
 "cells": [
  {
   "cell_type": "code",
   "execution_count": 2,
   "id": "b303f0cd-7385-42d3-a0d9-4dcdf4ae0e11",
   "metadata": {},
   "outputs": [
    {
     "name": "stdout",
     "output_type": "stream",
     "text": [
      "{\n",
      "  \"bills\": [\n",
      "    {\n",
      "      \"congress\": 119,\n",
      "      \"latestAction\": {\n",
      "        \"actionDate\": \"2025-06-12\",\n",
      "        \"text\": \"Became Public Law No: 119-18.\"\n",
      "      },\n",
      "      \"laws\": [\n",
      "        {\n",
      "          \"number\": \"119-18\",\n",
      "          \"type\": \"Public Law\"\n",
      "        }\n",
      "      ],\n",
      "      \"number\": \"160\",\n",
      "      \"originChamber\": \"Senate\",\n",
      "      \"originChamberCode\": \"S\",\n",
      "      \"title\": \"Aerial Firefighting Enhancement Act of 2025\",\n",
      "      \"type\": \"S\",\n",
      "      \"updateDate\": \"2025-06-17\",\n",
      "      \"updateDateIncludingText\": \"2025-06-17\",\n",
      "      \"url\": \"https://api.congress.gov/v3/bill/119/s/160?format=json\"\n",
      "    }\n",
      "  ],\n",
      "  \"pagination\": {\n",
      "    \"count\": 18,\n",
      "    \"next\": \"https://api.congress.gov/v3/law/119?offset=1&limit=1&format=json\"\n",
      "  },\n",
      "  \"request\": {\n",
      "    \"congress\": \"119\",\n",
      "    \"contentType\": \"application/json\",\n",
      "    \"format\": \"json\"\n",
      "  }\n",
      "}\n"
     ]
    }
   ],
   "source": [
    "import requests\n",
    "import json\n",
    "\n",
    "# Read API key from file\n",
    "with open('../api/congress_gov.txt', 'r') as f:\n",
    "    api_key = f.read().strip()\n",
    "\n",
    "# API request\n",
    "url = 'https://api.congress.gov/v3/law/119'\n",
    "\n",
    "params = {\n",
    "    'api_key': api_key,\n",
    "    'format': 'json',\n",
    "    'limit': 1\n",
    "}\n",
    "\n",
    "response = requests.get(url, params=params)\n",
    "\n",
    "# Check and print raw JSON response\n",
    "if response.status_code == 200:\n",
    "    data = response.json()\n",
    "    print(json.dumps(data, indent=2))  # Pretty-print the raw JSON\n",
    "else:\n",
    "    print(f\"Error: {response.status_code} - {response.text}\")\n"
   ]
  },
  {
   "cell_type": "code",
   "execution_count": 4,
   "id": "33be76d0-a40e-47a5-97f3-d383d5b9361f",
   "metadata": {},
   "outputs": [
    {
     "name": "stdout",
     "output_type": "stream",
     "text": [
      "Fetched 250 laws...\n",
      "\n",
      "✅ Done! Total laws fetched: 18\n"
     ]
    }
   ],
   "source": [
    "import requests\n",
    "import pandas as pd\n",
    "import time\n",
    "\n",
    "# Load API key\n",
    "with open('../api/congress_gov.txt', 'r') as f:\n",
    "    api_key = f.read().strip()\n",
    "\n",
    "# Base API endpoint for laws from the 118th Congress\n",
    "url = 'https://api.congress.gov/v3/law/119'\n",
    "limit = 250\n",
    "offset = 0\n",
    "\n",
    "all_records = []\n",
    "\n",
    "while True:\n",
    "    params = {\n",
    "        'api_key': api_key,\n",
    "        'format': 'json',\n",
    "        'limit': limit,\n",
    "        'offset': offset\n",
    "    }\n",
    "\n",
    "    response = requests.get(url, params=params)\n",
    "    if response.status_code != 200:\n",
    "        print(f\"Error at offset {offset}: {response.status_code}\")\n",
    "        break\n",
    "\n",
    "    data = response.json()\n",
    "    bills = data.get(\"bills\", [])\n",
    "    if not bills:\n",
    "        break\n",
    "\n",
    "    for bill in bills:\n",
    "        # Some bills may have multiple laws attached\n",
    "        laws = bill.get(\"laws\", [])\n",
    "        law_numbers = [law.get(\"number\") for law in laws]\n",
    "        law_types = [law.get(\"type\") for law in laws]\n",
    "\n",
    "        record = {\n",
    "            \"congress\": bill.get(\"congress\"),\n",
    "            \"bill_number\": bill.get(\"number\"),\n",
    "            \"bill_type\": bill.get(\"type\"),\n",
    "            \"title\": bill.get(\"title\"),\n",
    "            \"originChamber\": bill.get(\"originChamber\"),\n",
    "            \"latestActionDate\": bill.get(\"latestAction\", {}).get(\"actionDate\"),\n",
    "            \"latestActionText\": bill.get(\"latestAction\", {}).get(\"text\"),\n",
    "            \"updateDate\": bill.get(\"updateDate\"),\n",
    "            \"bill_url\": bill.get(\"url\"),\n",
    "            \"law_numbers\": \"; \".join(law_numbers),\n",
    "            \"law_types\": \"; \".join(law_types)\n",
    "        }\n",
    "        all_records.append(record)\n",
    "\n",
    "    offset += limit\n",
    "    print(f\"Fetched {offset} laws...\")\n",
    "    time.sleep(0.1)\n",
    "\n",
    "# Create final DataFrame\n",
    "df = pd.DataFrame(all_records)\n",
    "print(f\"\\n✅ Done! Total laws fetched: {len(df)}\")\n"
   ]
  },
  {
   "cell_type": "code",
   "execution_count": null,
   "id": "96b7ad0d-ca6d-461d-bd46-74f0fa195372",
   "metadata": {},
   "outputs": [],
   "source": [
    "df."
   ]
  }
 ],
 "metadata": {
  "kernelspec": {
   "display_name": "Python 3 (ipykernel)",
   "language": "python",
   "name": "python3"
  },
  "language_info": {
   "codemirror_mode": {
    "name": "ipython",
    "version": 3
   },
   "file_extension": ".py",
   "mimetype": "text/x-python",
   "name": "python",
   "nbconvert_exporter": "python",
   "pygments_lexer": "ipython3",
   "version": "3.13.4"
  }
 },
 "nbformat": 4,
 "nbformat_minor": 5
}
